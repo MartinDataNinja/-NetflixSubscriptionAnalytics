{
 "cells": [
  {
   "cell_type": "code",
   "execution_count": 4,
   "id": "29b12aeb-d30e-4c4a-b5d3-62606a451dc9",
   "metadata": {},
   "outputs": [
    {
     "name": "stdout",
     "output_type": "stream",
     "text": [
      "   User ID Subscription Type  Monthly Revenue Join Date Last Payment Date  \\\n",
      "0        1             Basic               10  15-01-22          10-06-23   \n",
      "1        2           Premium               15  05-09-21          22-06-23   \n",
      "2        3          Standard               12  28-02-23          27-06-23   \n",
      "3        4          Standard               12  10-07-22          26-06-23   \n",
      "4        5             Basic               10  01-05-23          28-06-23   \n",
      "\n",
      "          Country  Age  Gender      Device Plan Duration  \n",
      "0   United States   28    Male  Smartphone       1 Month  \n",
      "1          Canada   35  Female      Tablet       1 Month  \n",
      "2  United Kingdom   42    Male    Smart TV       1 Month  \n",
      "3       Australia   51  Female      Laptop       1 Month  \n",
      "4         Germany   33    Male  Smartphone       1 Month  \n"
     ]
    }
   ],
   "source": [
    "import pandas as pd\n",
    "\n",
    "# Replace backslashes with forward slashes\n",
    "df = pd.read_csv('C:/Users/GK TECH/Desktop/Netflix Userbase.csv')\n",
    "\n",
    "# Display the first few rows of the dataframe\n",
    "print(df.head())"
   ]
  },
  {
   "cell_type": "code",
   "execution_count": 6,
   "id": "92368e91-1c24-49d4-9121-cc6c235de759",
   "metadata": {},
   "outputs": [
    {
     "name": "stdout",
     "output_type": "stream",
     "text": [
      "Shape of the DataFrame: (2500, 10)\n",
      "Data Types:\n",
      " User ID               int64\n",
      "Subscription Type    object\n",
      "Monthly Revenue       int64\n",
      "Join Date            object\n",
      "Last Payment Date    object\n",
      "Country              object\n",
      "Age                   int64\n",
      "Gender               object\n",
      "Device               object\n",
      "Plan Duration        object\n",
      "dtype: object\n",
      "   User ID Subscription Type  Monthly Revenue Join Date Last Payment Date  \\\n",
      "0        1             Basic               10  15-01-22          10-06-23   \n",
      "1        2           Premium               15  05-09-21          22-06-23   \n",
      "2        3          Standard               12  28-02-23          27-06-23   \n",
      "3        4          Standard               12  10-07-22          26-06-23   \n",
      "4        5             Basic               10  01-05-23          28-06-23   \n",
      "\n",
      "          Country  Age  Gender      Device Plan Duration  \n",
      "0   United States   28    Male  Smartphone       1 Month  \n",
      "1          Canada   35  Female      Tablet       1 Month  \n",
      "2  United Kingdom   42    Male    Smart TV       1 Month  \n",
      "3       Australia   51  Female      Laptop       1 Month  \n",
      "4         Germany   33    Male  Smartphone       1 Month  \n"
     ]
    }
   ],
   "source": [
    "# Display the shape of the DataFrame\n",
    "print(\"Shape of the DataFrame:\", df.shape)\n",
    "\n",
    "# Display data types of each column\n",
    "print(\"Data Types:\\n\", df.dtypes)\n",
    "\n",
    "# Display the first few rows of the DataFrame\n",
    "print(df.head())"
   ]
  },
  {
   "cell_type": "code",
   "execution_count": 8,
   "id": "ba6bbe9b-34e3-4cc2-9cb0-85d8c945fafa",
   "metadata": {},
   "outputs": [
    {
     "name": "stdout",
     "output_type": "stream",
     "text": [
      "          User ID  Monthly Revenue          Age\n",
      "count  2500.00000      2500.000000  2500.000000\n",
      "mean   1250.50000        12.508400    38.795600\n",
      "std     721.83216         1.686851     7.171778\n",
      "min       1.00000        10.000000    26.000000\n",
      "25%     625.75000        11.000000    32.000000\n",
      "50%    1250.50000        12.000000    39.000000\n",
      "75%    1875.25000        14.000000    45.000000\n",
      "max    2500.00000        15.000000    51.000000\n"
     ]
    }
   ],
   "source": [
    "print(df.describe())"
   ]
  },
  {
   "cell_type": "code",
   "execution_count": 10,
   "id": "f73e2424-b3dd-4fb3-b505-215c9694cab6",
   "metadata": {},
   "outputs": [
    {
     "name": "stdout",
     "output_type": "stream",
     "text": [
      "Subscription Type Distribution:\n",
      " Subscription Type\n",
      "Basic       999\n",
      "Standard    768\n",
      "Premium     733\n",
      "Name: count, dtype: int64\n"
     ]
    }
   ],
   "source": [
    "# Count of each subscription type\n",
    "subscription_counts = df['Subscription Type'].value_counts()\n",
    "print(\"Subscription Type Distribution:\\n\", subscription_counts)"
   ]
  },
  {
   "cell_type": "code",
   "execution_count": 12,
   "id": "af8c8af4-482b-48fa-8873-e39eba8b7f20",
   "metadata": {},
   "outputs": [
    {
     "name": "stdout",
     "output_type": "stream",
     "text": [
      "Total Monthly Revenue by Subscription Type:\n",
      " Subscription Type\n",
      "Basic       12469\n",
      "Premium      9229\n",
      "Standard     9573\n",
      "Name: Monthly Revenue, dtype: int64\n"
     ]
    }
   ],
   "source": [
    "# Total monthly revenue by subscription type\n",
    "revenue_by_subscription = df.groupby('Subscription Type')['Monthly Revenue'].sum()\n",
    "print(\"Total Monthly Revenue by Subscription Type:\\n\", revenue_by_subscription)"
   ]
  },
  {
   "cell_type": "code",
   "execution_count": 14,
   "id": "7089969b-5f66-4dbd-be4c-ec8c7c2e688d",
   "metadata": {},
   "outputs": [
    {
     "name": "stdout",
     "output_type": "stream",
     "text": [
      "Age Distribution:\n",
      " count    2500.000000\n",
      "mean       38.795600\n",
      "std         7.171778\n",
      "min        26.000000\n",
      "25%        32.000000\n",
      "50%        39.000000\n",
      "75%        45.000000\n",
      "max        51.000000\n",
      "Name: Age, dtype: float64\n"
     ]
    }
   ],
   "source": [
    "# Age distribution\n",
    "age_distribution = df['Age'].describe()\n",
    "print(\"Age Distribution:\\n\", age_distribution)"
   ]
  },
  {
   "cell_type": "code",
   "execution_count": 16,
   "id": "1fb16f04-8ac2-4f87-88a0-015000705808",
   "metadata": {},
   "outputs": [
    {
     "name": "stdout",
     "output_type": "stream",
     "text": [
      "Gender Distribution:\n",
      " Gender\n",
      "Female    1257\n",
      "Male      1243\n",
      "Name: count, dtype: int64\n"
     ]
    }
   ],
   "source": [
    "gender_counts = df['Gender'].value_counts()\n",
    "print(\"Gender Distribution:\\n\", gender_counts)"
   ]
  },
  {
   "cell_type": "code",
   "execution_count": 18,
   "id": "7f51b4f6-5bb0-4455-94a4-7b18a59eee19",
   "metadata": {},
   "outputs": [
    {
     "name": "stdout",
     "output_type": "stream",
     "text": [
      "Device Usage Distribution:\n",
      " Device\n",
      "Laptop        636\n",
      "Tablet        633\n",
      "Smartphone    621\n",
      "Smart TV      610\n",
      "Name: count, dtype: int64\n"
     ]
    }
   ],
   "source": [
    "# Count of each device type\n",
    "device_counts = df['Device'].value_counts()\n",
    "print(\"Device Usage Distribution:\\n\", device_counts)"
   ]
  },
  {
   "cell_type": "code",
   "execution_count": 20,
   "id": "49c15321-2d63-4f54-b410-a467f8622f72",
   "metadata": {},
   "outputs": [
    {
     "name": "stdout",
     "output_type": "stream",
     "text": [
      "   Join Date Last Payment Date\n",
      "0 2022-01-15        2023-06-10\n",
      "1 2021-09-05        2023-06-22\n",
      "2 2023-02-28        2023-06-27\n",
      "3 2022-07-10        2023-06-26\n",
      "4 2023-05-01        2023-06-28\n"
     ]
    }
   ],
   "source": [
    "# Convert date columns to datetime\n",
    "df['Join Date'] = pd.to_datetime(df['Join Date'], format='%d-%m-%y')\n",
    "df['Last Payment Date'] = pd.to_datetime(df['Last Payment Date'], format='%d-%m-%y')\n",
    "\n",
    "\n",
    "print(df[['Join Date', 'Last Payment Date']].head())"
   ]
  },
  {
   "cell_type": "code",
   "execution_count": 22,
   "id": "406cf1aa-f968-4e84-8373-345d6524ebcf",
   "metadata": {},
   "outputs": [
    {
     "data": {
      "image/png": "[encoded data removed]",
      "text/plain": [
       "<Figure size 800x500 with 1 Axes>"
      ]
     },
     "metadata": {},
     "output_type": "display_data"
    }
   ],
   "source": [
    "import matplotlib.pyplot as plt\n",
    "import seaborn as sns\n",
    "\n",
    "# Plotting subscription type distribution\n",
    "plt.figure(figsize=(8, 5))\n",
    "sns.countplot(data=df, x='Subscription Type')\n",
    "plt.title('Subscription Type Distribution')\n",
    "plt.xlabel('Subscription Type')\n",
    "plt.ylabel('Count')\n",
    "plt.show()"
   ]
  },
  {
   "cell_type": "code",
   "execution_count": null,
   "id": "c5941b8c-e044-4be6-bc09-402c91d4081c",
   "metadata": {},
   "outputs": [],
   "source": []
  }
 ],
 "metadata": {
  "kernelspec": {
   "display_name": "Python 3 (ipykernel)",
   "language": "python",
   "name": "python3"
  },
  "language_info": {
   "codemirror_mode": {
    "name": "ipython",
    "version": 3
   },
   "file_extension": ".py",
   "mimetype": "text/x-python",
   "name": "python",
   "nbconvert_exporter": "python",
   "pygments_lexer": "ipython3",
   "version": "3.12.7"
  }
 },
 "nbformat": 4,
 "nbformat_minor": 5
}
